{
 "cells": [
  {
   "cell_type": "markdown",
   "metadata": {},
   "source": [
    "# 0.Import of packages "
   ]
  },
  {
   "cell_type": "code",
   "execution_count": null,
   "metadata": {
    "jupyter": {
     "is_executing": true
    }
   },
   "outputs": [],
   "source": [
    "import muscle_analysis as ma\n",
    "import tkinter as tk\n",
    "import tkinter.filedialog as fd\n",
    "import json\n",
    "import scipy.io\n",
    "\n",
    "root = tk.Tk()\n",
    "root.attributes(\"-topmost\", True)\n",
    "root.withdraw()"
   ]
  },
  {
   "cell_type": "markdown",
   "metadata": {},
   "source": [
    "# 1.Uploading of transformations and setting of the parameters\n"
   ]
  },
  {
   "cell_type": "code",
   "execution_count": null,
   "metadata": {},
   "outputs": [],
   "source": [
    "file_path = fd.askopenfilename(title = \"Choose the position list\")\n",
    "path_smFRET = fd.askdirectory(title = \"Choose the smFRET folder\")\n",
    "pos_file = open(file_path)\n",
    "data = json.load(pos_file)\n",
    "POS = data['POSITIONS']\n",
    "tr_G2R, tr_R2G = ma.load_data.poly_transf()\n",
    "apriori_tr_original, apriori_tr, apriori_tr_inv = ma.load_data.apriori_transf(ma.x_border,ma.y_border) #uploading  transformations\n",
    "\n",
    "ALEX = True #if imaging was performed using ALEX, otherwise False\n",
    "read2 = True #if paired-end sequencing was  used, otherwise False \n",
    "current_tile = 1101 # number of the tile from the fastq file \n"
   ]
  },
  {
   "cell_type": "markdown",
   "metadata": {},
   "source": [
    "# 2.Analysis of the FASTQ file"
   ]
  },
  {
   "cell_type": "code",
   "execution_count": null,
   "metadata": {},
   "outputs": [],
   "source": [
    "x_coord, y_coord, sequence = ma.muscle_sequencing.create_FASTQ_image(current_tile, read2)\n",
    "#create the FASTQ file, if read2 = True, then sequence is an 2D array"
   ]
  },
  {
   "cell_type": "markdown",
   "metadata": {},
   "source": [
    "# 3.Creating the combined image "
   ]
  },
  {
   "cell_type": "code",
   "execution_count": null,
   "metadata": {},
   "outputs": [],
   "source": [
    "ma.pks_from_img.combined_image(path_smFRET, POS, ALEX, tr_R2G, apriori_tr_original) #create combined image"
   ]
  },
  {
   "cell_type": "markdown",
   "metadata": {},
   "source": [
    "# 4. Alignment"
   ]
  },
  {
   "cell_type": "code",
   "execution_count": null,
   "metadata": {
    "scrolled": true
   },
   "outputs": [],
   "source": [
    "rb_rad, r = ma.align.alignment(path_smFRET, POS, ALEX, tr_R2G, apriori_tr, x_coord, y_coord, sequence, read2) #main cycle"
   ]
  },
  {
   "cell_type": "markdown",
   "metadata": {},
   "source": [
    "# 5. Trace extraction "
   ]
  },
  {
   "cell_type": "code",
   "execution_count": null,
   "metadata": {},
   "outputs": [],
   "source": [
    "ma.traces.extract_traces(path_smFRET, read2, rb_rad, r) #extract traces"
   ]
  },
  {
   "cell_type": "code",
   "execution_count": 5,
   "metadata": {},
   "outputs": [
    {
     "name": "stdout",
     "output_type": "stream",
     "text": [
      "Help on function create_FASTQ_image in module muscle_analysis.muscle_sequencing:\n",
      "\n",
      "create_FASTQ_image(current_tile, read2)\n",
      "    This function is used for creating the image based on FASTQ file. \n",
      "    \n",
      "    Args:\n",
      "        current tile(integer): number of the current tile\n",
      "        read2(boolean):  in case of paired-end sequencing, this flag should be True\n",
      "    Returns:\n",
      "       Creates the fastq image \n",
      "       x_coord - x coordinates from the Fastq file \n",
      "       y_coord - y coordinates from the Fastq file\n",
      "       sequence - list of selected sequences. if read2 =True, it's a 2D array\n",
      "\n"
     ]
    }
   ],
   "source": [
    "help(ma.muscle_sequencing.create_FASTQ_image)"
   ]
  },
  {
   "cell_type": "code",
   "execution_count": 4,
   "metadata": {},
   "outputs": [
    {
     "name": "stdout",
     "output_type": "stream",
     "text": [
      "Help on function combined_image in module muscle_analysis.pks_from_img:\n",
      "\n",
      "combined_image(path_smFRET, POS, ALEX, tr_R2G, apriori_tr_original)\n",
      "    Creating the combined image from the sm_FRET FOVs\n",
      "    \n",
      "    Args:\n",
      "        path_smFRET: path to the folder with smFRET movies.\n",
      "        POS: position list.\n",
      "        ALEX (bool): was the data collected using alternating laser excitation (ALEX)?.\n",
      "        tr_R2G: the polynomial reverse transformation for mapping the Cy3 and Cy5 channels\n",
      "        apriori_tr_original: original apriori transformation from smFRET to sequencing coordinates\n",
      "    Returns:\n",
      "        The function creates an image that combines all smFRET FOVs in order to perform preliminary alignment with FASTQ tiles\n",
      "\n"
     ]
    }
   ],
   "source": [
    "help(ma.pks_from_img.combined_image)"
   ]
  },
  {
   "cell_type": "code",
   "execution_count": 3,
   "metadata": {},
   "outputs": [
    {
     "name": "stdout",
     "output_type": "stream",
     "text": [
      "Help on function alignment in module muscle_analysis.align:\n",
      "\n",
      "alignment(path_smFRET, POS, ALEX, tr_R2G, apriori_tr, x_coord, y_coord, sequence, read2)\n",
      "    The function is used for the alingment between molecules from smFRET imaging and clusters from sequencing.\n",
      "    \n",
      "    Args:\n",
      "        path_smFRET (string): The absolute path of the folder with smFRET movies.\n",
      "        POS: the information about FOV positions. \n",
      "        ALEX (boolean): Was imaging performed with alternating laser excitation (ALEX)?.\n",
      "        tr_R2G : forward transformation mapping Cy3 and Cy5 channels\n",
      "        apriori_tr: a preliminary transformation from smFRET to sequencing coordinates\n",
      "        x_coord: list of the x coordinates from the FASTQ file\n",
      "        y_coord: list of the y coordinates from the FASTQ file\n",
      "        sequence: list of the sequences from the FASTQ file, in case of paired-end sequencing, it is 2D array\n",
      "        read2: in case of paired-end sequencing, this flag should be True\n",
      "    Returns:\n",
      "         It returns the following analysis parameters that can be adjusted in this file if needed: \n",
      "         r - Half-width of the molecule aperture for trace extraction, i.e. for r = 3 it is -3:3\n",
      "         rb_rad - radius for the rolling ball background estimation, default value is 10\n",
      "         It creates .mat file with \"good positions\"\n",
      "\n"
     ]
    }
   ],
   "source": [
    "help (ma.align.alignment)"
   ]
  },
  {
   "cell_type": "code",
   "execution_count": 2,
   "metadata": {},
   "outputs": [
    {
     "name": "stdout",
     "output_type": "stream",
     "text": [
      "Help on function extract_traces in module muscle_analysis.traces:\n",
      "\n",
      "extract_traces(path_smFRET, read2, rb_rad, r)\n",
      "    This function is creating the .mat files containing matched smFRET traces and sequences for molecules from FOVs that were aligned in the previous step\n",
      "    \n",
      "    Args:\n",
      "        path_smFRET - path to the folder containing the smFRET movies. \n",
      "        read2 - flag for paired-end sequencing\n",
      "    Returns:\n",
      "        rb_rad - rolling ball radius\n",
      "        r - Half-width of the molecule aperture for trace extraction, i.e. for r = 3 it is -3:3\n",
      "      \n",
      "        \"time\": time information from smFRET trace \n",
      "        \"Cy3\": Cy3 intensity \n",
      "        \"Cy5\": Cy5 intensity \n",
      "        \"Seq\": sequence based on the read1,\n",
      "        \"Seq_2\": sequence based on read2 (if not paired-end, it's an empty array),\n",
      "        \"Dist\": distance betweeen a cluster and a corresponding single molecule,\n",
      "        \"x\": x coordinates of single molecules from the Cy5 channel,\n",
      "        \"y\": y coordinates of single molecules from the Cy5 channel,\n",
      "        \"x_FQ\": x coordinates of respective clusters from the fastq file,\n",
      "        \"y_FQ\": y coordinates of respective clusters from the fastq file\n",
      "\n"
     ]
    }
   ],
   "source": [
    "help(ma.traces.extract_traces)"
   ]
  }
 ],
 "metadata": {
  "kernelspec": {
   "display_name": "Python 3 (ipykernel)",
   "language": "python",
   "name": "python3"
  },
  "language_info": {
   "codemirror_mode": {
    "name": "ipython",
    "version": 3
   },
   "file_extension": ".py",
   "mimetype": "text/x-python",
   "name": "python",
   "nbconvert_exporter": "python",
   "pygments_lexer": "ipython3",
   "version": "3.10.9"
  }
 },
 "nbformat": 4,
 "nbformat_minor": 4
}
