{
 "cells": [
  {
   "cell_type": "code",
   "execution_count": null,
   "metadata": {},
   "outputs": [],
   "source": [
    "%load_ext line_profiler"
   ]
  },
  {
   "cell_type": "code",
   "execution_count": null,
   "metadata": {
    "jupyter": {
     "is_executing": true
    }
   },
   "outputs": [],
   "source": [
    "import muscle_analysis as ma\n",
    "import tkinter as tk\n",
    "import tkinter.filedialog as fd\n",
    "import json\n",
    "import scipy.io\n",
    "\n",
    "root = tk.Tk()\n",
    "root.attributes(\"-topmost\", True)\n",
    "root.withdraw()"
   ]
  },
  {
   "cell_type": "markdown",
   "metadata": {},
   "source": [
    "At this step we are uploading the position list and transformations. Besides, we are setting important flags, describing experimental conditions"
   ]
  },
  {
   "cell_type": "code",
   "execution_count": null,
   "metadata": {},
   "outputs": [],
   "source": [
    "file_path = fd.askopenfilename(title = \"Choose the position list\")\n",
    "path_smFRET = fd.askdirectory(title = \"Choose the smFRET folder\")\n",
    "pos_file = open(file_path)\n",
    "data = json.load(pos_file)\n",
    "POS = data['POSITIONS']\n",
    "tr_G2R, tr_R2G = ma.load_data.poly_transf()\n",
    "apriori_tr_original, apriori_tr, apriori_tr_inv = ma.load_data.apriori_transf(ma.x_border,ma.y_border) #uploading  transformations\n",
    "\n",
    "ALEX = True #if imaging was performed using ALEX, otherwise False\n",
    "read2 = True #if paired-end sequencing was  used, otherwise False \n",
    "current_tile = 1103 # number of the tile from the fastq file \n"
   ]
  },
  {
   "cell_type": "code",
   "execution_count": null,
   "metadata": {},
   "outputs": [],
   "source": [
    "help (ma.load_data.poly_transf)"
   ]
  },
  {
   "cell_type": "markdown",
   "metadata": {},
   "source": [
    "At this step we are creating the image based on FASTQ file (it will be used for the cross-correlation analysis via ImageJ) and extracting the information from the FASTQ file. "
   ]
  },
  {
   "cell_type": "code",
   "execution_count": null,
   "metadata": {},
   "outputs": [],
   "source": [
    "x_coord, y_coord, sequence = ma.muscle_sequencing.create_FASTQ_image(current_tile, read2 = True)\n",
    "#create the FASTQ file, sequence arr\n"
   ]
  },
  {
   "cell_type": "code",
   "execution_count": null,
   "metadata": {},
   "outputs": [],
   "source": [
    "ma.pks_from_img.combined_image(path_smFRET, POS, ALEX, tr_R2G, apriori_tr_original) #create combined image"
   ]
  },
  {
   "cell_type": "code",
   "execution_count": null,
   "metadata": {
    "scrolled": true
   },
   "outputs": [],
   "source": [
    "mat_path = ma.align.alignment(path_smFRET, POS, ALEX, tr_R2G, apriori_tr, x_coord, y_coord, sequence, read2) #main cycle"
   ]
  },
  {
   "cell_type": "code",
   "execution_count": null,
   "metadata": {},
   "outputs": [],
   "source": [
    "ma.traces.extract_traces(path_smFRET, read2) #extract traces"
   ]
  },
  {
   "cell_type": "code",
   "execution_count": null,
   "metadata": {},
   "outputs": [],
   "source": [
    "from scipy.io import savemat, loadmat\n",
    "file_path = fd.askopenfilename(title = \"Choose the mat file\") \n",
    "mdict1 = loadmat(file_path)\n"
   ]
  },
  {
   "cell_type": "code",
   "execution_count": null,
   "metadata": {},
   "outputs": [],
   "source": []
  },
  {
   "cell_type": "code",
   "execution_count": null,
   "metadata": {},
   "outputs": [],
   "source": []
  }
 ],
 "metadata": {
  "kernelspec": {
   "display_name": "Python 3 (ipykernel)",
   "language": "python",
   "name": "python3"
  },
  "language_info": {
   "codemirror_mode": {
    "name": "ipython",
    "version": 3
   },
   "file_extension": ".py",
   "mimetype": "text/x-python",
   "name": "python",
   "nbconvert_exporter": "python",
   "pygments_lexer": "ipython3",
   "version": "3.10.9"
  }
 },
 "nbformat": 4,
 "nbformat_minor": 4
}
