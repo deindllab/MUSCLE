{
 "cells": [
  {
   "cell_type": "code",
   "execution_count": 35,
   "metadata": {},
   "outputs": [],
   "source": [
    "from Bio import SeqIO\n",
    "import numpy as np\n",
    "from PIL import Image\n",
    "from skimage.filters import gaussian\n",
    "import pandas as pd\n",
    "\n",
    "from scipy import spatial\n",
    "from cmath import inf"
   ]
  },
  {
   "cell_type": "code",
   "execution_count": 38,
   "metadata": {},
   "outputs": [],
   "source": [
    "def get_pos(record):\n",
    "    des = record.description\n",
    "    tile_num = int(des.split(\" \")[0].split(\":\")[4])\n",
    "    x_pos = int(des.split(\" \")[0].split(\":\")[5])\n",
    "    y_pos = int(des.split(\" \")[0].split(\":\")[6])\n",
    "    seq = str(record.seq)\n",
    "    return tile_num, x_pos, y_pos, seq\n",
    "\n",
    "\n",
    "def generate_img(coordinates, op_path, r, blurred, sigma):\n",
    "    x = coordinates[:, 0]\n",
    "    y = coordinates[:, 1]\n",
    "    x_min = np.min(x)\n",
    "    y_min = np.min(y)\n",
    "    x_range = 30000\n",
    "    y_range = 30000\n",
    "    img = np.zeros(shape=(30000, 30000))\n",
    "    for i in range(0, len(x)):\n",
    "        for j in range(0, r):\n",
    "            for k in range(0, r):\n",
    "                img[max(0, x[i] - x_min - j), max(0, y[i] - y_min - k)] = 1024 * 2\n",
    "                img[min(x_range - 1, x[i] - x_min + j), max(0, y[i] - y_min - k)] = (\n",
    "                    1024 * 2\n",
    "                )\n",
    "                img[\n",
    "                    min(x_range - 1, x[i] - x_min + j),\n",
    "                    min(y_range - 1, y[i] - y_min + k),\n",
    "                ] = (\n",
    "                    1024 * 2\n",
    "                )\n",
    "                img[max(0, x[i] - x_min - j), min(y_range - 1, y[i] - y_min + k)] = (\n",
    "                    1024 * 2\n",
    "                )\n",
    "    if blurred:\n",
    "        img = gaussian(img, sigma=sigma)\n",
    "    im = Image.fromarray(img)\n",
    "    new_im = im.convert(\"L\")\n",
    "    new_im.save(op_path, dpi=(300.0, 300.0))\n",
    "\n",
    "\n",
    "def process_seq_info(fastq_path, tile):\n",
    "    x_coordinate = []\n",
    "    y_coordinate = []\n",
    "    seq_set = []\n",
    "    for record in SeqIO.parse(fastq_path, \"fastq\"):\n",
    "        if record is not None:\n",
    "            tile_num, x_pos, y_pos, seq = get_pos(record)\n",
    "            if tile_num == tile:\n",
    "                x_coordinate.append(x_pos)\n",
    "                y_coordinate.append(y_pos)\n",
    "                seq_set.append(seq)\n",
    "    coordinates = np.column_stack(\n",
    "        (\n",
    "            max(x_coordinate) - np.array(x_coordinate),\n",
    "            max(y_coordinate) - np.array(y_coordinate),\n",
    "            # np.array(x_coordinate) - min(x_coordinate),\n",
    "            # np.array(y_coordinate) - min(y_coordinate)\n",
    "        )\n",
    "    )\n",
    "    return coordinates, np.array(seq_set)\n",
    "\n",
    "\n",
    "def count_nearest_pts(src, dst, radius):\n",
    "    \"\"\"Counting the number of nearest neighbors for each given point.\n",
    "\n",
    "    Args:\n",
    "        src (numpy array): (N, 2) shape array. Build the kd tree based on this.\n",
    "        dst (numpy array): (N, 2) shape array. For each point in this array, find the nearest neighbors in src array.\n",
    "        radius (int): The maximum searching radius.\n",
    "\n",
    "    Returns:\n",
    "        res, idx: res is the distance for the point and its neighbor, 'inf' means no neighbor in given search radius. \n",
    "        idx is the index for the neighbor in src array.\n",
    "    \"\"\"\n",
    "    tree = spatial.KDTree(src)\n",
    "    res, idx = tree.query(dst, k=1, distance_upper_bound=radius)\n",
    "    for i in range(0, len(idx)):\n",
    "        if len(np.argwhere(idx == idx[i])) > 1:\n",
    "            res[i] = inf\n",
    "    return res, idx\n",
    "\n",
    "\n",
    "def tell_me_sequence(source_coord, target_coord, seq_set):\n",
    "    count_nearest_pts(source_coord, target_coord, 20)\n",
    "    tree = spatial.KDTree(source_coord)\n",
    "    res, idx = tree.query(target_coord, k=1, distance_upper_bound=20)\n",
    "    for i in range(0, len(idx)):\n",
    "        if len(np.argwhere(idx == idx[i])) > 1:\n",
    "            res[i] = inf\n",
    "    return seq_set[idx]\n"
   ]
  },
  {
   "cell_type": "code",
   "execution_count": 33,
   "metadata": {},
   "outputs": [
    {
     "name": "stdout",
     "output_type": "stream",
     "text": [
      "[[14017 27611]\n",
      " [13951 27609]\n",
      " [14457 27605]\n",
      " ...\n",
      " [16800   166]\n",
      " [16820   136]\n",
      " [10822     0]]\n",
      "['CGTCAACCATACCAGCAGAGGAAGCATCAGCACCAGCACGCTCCCAAGCAT'\n",
      " 'TTTTATCGAAGCGCGCATAAATTTGAGCAGATTTGTCGTCACAGGTTGCGC'\n",
      " 'GTAATTATACTCATCGCGAATATCCTTAAGAGGGCGTTCAGCAGCCAGCTT' ...\n",
      " 'CCCCCCCCCCCCCCCCCCCCCCCCCCCCCCCCCCCCCCCCCCCCCCCCCCC'\n",
      " 'CCCCCCCCCCCCCCCCCCCCCCCCCCCCCCCCCCCCCCCCCCCCCCCCCCC'\n",
      " 'CTTCCCCCTTTTTTTTTTTTTTTTTNNNNNNNNTTTTTTTTNNNNNNNNTT']\n"
     ]
    }
   ],
   "source": [
    "fastq_path = \"/Users/qinhanhou/Desktop/DeindlLab/0729Poly/0824_NewData/data/0824.fastq\"\n",
    "coordinates, seq_set = process_seq_info(fastq_path, 1101)\n",
    "print(coordinates)\n",
    "print(seq_set)\n",
    "generate_img(coordinates, \"/Users/qinhanhou/Desktop/DeindlLab/0729Poly/0824_NewData/data/test.png\", 3, True, 4)\n"
   ]
  },
  {
   "cell_type": "code",
   "execution_count": 39,
   "metadata": {},
   "outputs": [
    {
     "name": "stdout",
     "output_type": "stream",
     "text": [
      "['CGTCAACCATACCAGCAGAGGAAGCATCAGCACCAGCACGCTCCCAAGCAT'\n",
      " 'TTTTATCGAAGCGCGCATAAATTTGAGCAGATTTGTCGTCACAGGTTGCGC']\n"
     ]
    }
   ],
   "source": [
    "print(tell_me_sequence(coordinates, np.array([[14014, 27612], [13964, 27623]]), seq_set))"
   ]
  }
 ],
 "metadata": {
  "kernelspec": {
   "display_name": "Python 3.9.6 ('donuts')",
   "language": "python",
   "name": "python3"
  },
  "language_info": {
   "codemirror_mode": {
    "name": "ipython",
    "version": 3
   },
   "file_extension": ".py",
   "mimetype": "text/x-python",
   "name": "python",
   "nbconvert_exporter": "python",
   "pygments_lexer": "ipython3",
   "version": "3.9.6"
  },
  "orig_nbformat": 4,
  "vscode": {
   "interpreter": {
    "hash": "09a6daa413063a39d67ff2395b4b7988be6704d7b326a0f0df1f4a2f602d4384"
   }
  }
 },
 "nbformat": 4,
 "nbformat_minor": 2
}
