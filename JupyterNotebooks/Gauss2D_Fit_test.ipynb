{
 "cells": [
  {
   "cell_type": "code",
   "execution_count": 60,
   "id": "68fa74a8",
   "metadata": {},
   "outputs": [
    {
     "data": {
      "image/png": "[encoded data removed]",
      "text/plain": [
       "<Figure size 432x288 with 2 Axes>"
      ]
     },
     "metadata": {
      "needs_background": "light"
     },
     "output_type": "display_data"
    }
   ],
   "source": [
    "import matplotlib.pyplot as plt\n",
    "import numpy as np\n",
    "from numpy import exp, power\n",
    "from numba import jit\n",
    "import time\n",
    "import lmfit\n",
    "from lmfit import Minimizer, Parameters\n",
    "from scipy.optimize import curve_fit\n",
    "\n",
    "\n",
    "def Gauss2D(x, y, A, sigma, bg, x0, y0):\n",
    "    return bg + A*exp(-0.5*power(sigma,-2)*(power(x-x0,2) + power(y-y0,2)))\n",
    "\n",
    "def residuals(p,x,y,z):\n",
    "    A = p[\"A\"].value\n",
    "    sigma = p[\"sigma\"].value\n",
    "    bg = p[\"bg\"].value\n",
    "    x0 = p[\"x0\"].value\n",
    "    y0 = p[\"y0\"].value\n",
    "    return Gauss2D(x,y,A,sigma,bg,x0,y0)-z\n",
    "\n",
    "def Jacobian(p,x,y,z):\n",
    "    A = p[\"A\"].value\n",
    "    sigma = p[\"sigma\"].value\n",
    "    bg = p[\"bg\"].value\n",
    "    x0 = p[\"x0\"].value\n",
    "    y0 = p[\"y0\"].value\n",
    "    e = exp(-0.5*power(sigma,-2)*(power(x-x0,2) + power(y-y0,2)))\n",
    "    aes =  A*e*power(sigma,-2)\n",
    "    return np.array([e, A*e*power(sigma,-3)*(power(x-x0,2)+power(y-y0,2)), np.ones(len(x)),aes*(x-x0), aes*(y-y0)])\n",
    "\n",
    "def Jacobian_fix(p,x,y,z):\n",
    "    A = p[\"A\"].value\n",
    "    sigma = p[\"sigma\"].value\n",
    "    bg = p[\"bg\"].value\n",
    "    x0 = p[\"x0\"].value\n",
    "    y0 = p[\"y0\"].value\n",
    "#     aes =  A*e*power(sigma,-2)\n",
    "    return np.array([exp(-0.5*power(sigma,-2)*(power(x-x0,2) + power(y-y0,2))), np.ones(len(x))])\n",
    "\n",
    "\n",
    "params = Parameters()\n",
    "params.add('A', value=1)\n",
    "params.add('sigma', value=3.0)\n",
    "params.add('bg', value=100)\n",
    "params.add('x0', value=5)\n",
    "params.add('y0', value=5)\n",
    "params[\"sigma\"].vary = False\n",
    "params[\"x0\"].vary = False\n",
    "params[\"y0\"].vary = False\n",
    "\n",
    "X, Y = np.meshgrid(np.linspace(0, 10, 11),\n",
    "                   np.linspace(0, 10, 11))\n",
    "Z = lmfit.lineshapes.gaussian2d(X,Y,amplitude=1000, centerx=5, centery=5, sigmax=3, sigmay=3)\n",
    "Z+= 3*np.random.rand(*Z.shape)+100\n",
    "fig, ax = plt.subplots()\n",
    "art = ax.pcolor(X, Y, Z, shading='auto')\n",
    "plt.colorbar(art, ax=ax, label='z')\n",
    "plt.show()\n",
    "\n",
    "X = X.ravel()\n",
    "Y = Y.ravel()\n",
    "Z = Z.ravel()"
   ]
  },
  {
   "cell_type": "code",
   "execution_count": 5,
   "id": "1f1d999a",
   "metadata": {},
   "outputs": [
    {
     "name": "stdout",
     "output_type": "stream",
     "text": [
      "--- 2.3417325019836426 seconds ---\n"
     ]
    }
   ],
   "source": [
    "\n"
   ]
  },
  {
   "cell_type": "code",
   "execution_count": 39,
   "id": "478bb01a",
   "metadata": {},
   "outputs": [
    {
     "name": "stdout",
     "output_type": "stream",
     "text": [
      "--- 1.6293489933013916 seconds ---\n"
     ]
    }
   ],
   "source": [
    "start_time = time.time()\n",
    "min2 = Minimizer(residuals, params, fcn_args=(X,Y), fcn_kws={'z': Z})\n",
    "# out2 = min2.leastsq(Dfun=Jacobian, col_deriv=1)\n",
    "for i in range(1000): out2 = min2.leastsq(Dfun=Jacobian_fix, col_deriv=1)\n",
    "print(\"--- %s seconds ---\" % (time.time() - start_time))"
   ]
  },
  {
   "cell_type": "code",
   "execution_count": 36,
   "id": "ac8ebc92",
   "metadata": {},
   "outputs": [
    {
     "name": "stdout",
     "output_type": "stream",
     "text": [
      "--- 56.95009899139404 seconds ---\n"
     ]
    }
   ],
   "source": [
    "# model = lmfit.models.ExpressionModel('bg+amplitude*exp(-((x-xc)**2+(y-yc)**2)/sigma**2)', independent_vars=['x','y'])\n",
    "# params = model.make_params(bg = 100, xc = 5, yc = 5, sigma = 3, amplitude = 1)\n",
    "# # params['bg'].min = 0\n",
    "# params['xc'].vary = False\n",
    "# params['yc'].vary = False\n",
    "# params['sigma'].vary = False\n",
    "# start_time = time.time()\n",
    "# for i in range(1000): result = model.fit(Z, x=Y, y=X, params=params, verbose=False, calc_covar=False, method = 'trust-constr')\n",
    "# print(\"--- %s seconds ---\" % (time.time() - start_time))\n",
    "\n"
   ]
  },
  {
   "cell_type": "markdown",
   "id": "3a2b0157",
   "metadata": {},
   "source": [
    "# SciPy implementation test"
   ]
  },
  {
   "cell_type": "code",
   "execution_count": 65,
   "id": "eb1c14c0",
   "metadata": {},
   "outputs": [
    {
     "name": "stderr",
     "output_type": "stream",
     "text": [
      "C:\\Users\\Anton\\AppData\\Local\\Temp\\ipykernel_3536\\2471879813.py:6: NumbaWarning: \u001b[1m\n",
      "Compilation is falling back to object mode WITH looplifting enabled because Function \"_jacobian\" failed type inference due to: \u001b[1m\u001b[1m\u001b[1mNo implementation of function Function(<built-in function array>) found for signature:\n",
      " \n",
      " >>> array(list(array(float64, 1d, C))<iv=None>)\n",
      " \n",
      "There are 4 candidate implementations:\n",
      "\u001b[1m      - Of which 4 did not match due to:\n",
      "      Overload in function '_OverloadWrapper._build.<locals>.ol_generated': File: numba\\core\\overload_glue.py: Line 129.\n",
      "        With argument(s): '(list(array(float64, 1d, C))<iv=None>)':\u001b[0m\n",
      "\u001b[1m       Rejected as the implementation raised a specific error:\n",
      "         TypingError: \u001b[1marray(float64, 1d, C) not allowed in a homogeneous sequence\u001b[0m\u001b[0m\n",
      "  raised from C:\\Users\\Anton\\anaconda3\\envs\\Spyder4\\lib\\site-packages\\numba\\core\\typing\\npydecl.py:488\n",
      "\u001b[0m\n",
      "\u001b[0m\u001b[1mDuring: resolving callee type: Function(<built-in function array>)\u001b[0m\n",
      "\u001b[0m\u001b[1mDuring: typing of call at C:\\Users\\Anton\\AppData\\Local\\Temp\\ipykernel_3536\\2471879813.py (11)\n",
      "\u001b[0m\n",
      "\u001b[1m\n",
      "File \"..\\..\\..\\..\\AppData\\Local\\Temp\\ipykernel_3536\\2471879813.py\", line 11:\u001b[0m\n",
      "\u001b[1m<source missing, REPL/exec in use?>\u001b[0m\n",
      "\u001b[0m\n",
      "  @jit\n",
      "C:\\Users\\Anton\\anaconda3\\envs\\Spyder4\\lib\\site-packages\\numba\\core\\object_mode_passes.py:151: NumbaWarning: \u001b[1mFunction \"_jacobian\" was compiled in object mode without forceobj=True.\n",
      "\u001b[1m\n",
      "File \"..\\..\\..\\..\\AppData\\Local\\Temp\\ipykernel_3536\\2471879813.py\", line 6:\u001b[0m\n",
      "\u001b[1m<source missing, REPL/exec in use?>\u001b[0m\n",
      "\u001b[0m\n",
      "  warnings.warn(errors.NumbaWarning(warn_msg,\n",
      "C:\\Users\\Anton\\anaconda3\\envs\\Spyder4\\lib\\site-packages\\numba\\core\\object_mode_passes.py:161: NumbaDeprecationWarning: \u001b[1m\n",
      "Fall-back from the nopython compilation path to the object mode compilation path has been detected, this is deprecated behaviour.\n",
      "\n",
      "For more information visit https://numba.readthedocs.io/en/stable/reference/deprecation.html#deprecation-of-object-mode-fall-back-behaviour-when-using-jit\n",
      "\u001b[1m\n",
      "File \"..\\..\\..\\..\\AppData\\Local\\Temp\\ipykernel_3536\\2471879813.py\", line 6:\u001b[0m\n",
      "\u001b[1m<source missing, REPL/exec in use?>\u001b[0m\n",
      "\u001b[0m\n",
      "  warnings.warn(errors.NumbaDeprecationWarning(msg,\n"
     ]
    }
   ],
   "source": [
    "@jit\n",
    "def _gaussian(M, A, sigma, bg, x0, y0):\n",
    "    x, y = M\n",
    "    return bg + A*exp(-0.5*power(sigma,-2)*(power(x-x0,2) + power(y-y0,2)))\n",
    "\n",
    "@jit\n",
    "def _jacobian(M, A, sigma, bg, x0, y0):\n",
    "    x, y = M\n",
    "    e = exp(-0.5*power(sigma,-2)*(power(x-x0,2) + power(y-y0,2)))\n",
    "    aes =  A*e*power(sigma,-2)\n",
    "    return np.transpose(np.array([e, A*e*power(sigma,-3)*(power(x-x0,2)+power(y-y0,2)), np.ones(len(x)),aes*(x-x0), aes*(y-y0)]))\n",
    "\n",
    "xdata = np.vstack((X, Y))\n",
    "p0 = [10,2.0,100,2,2]\n",
    "popt = curve_fit(_gaussian, xdata, Z, p0, jac = _jacobian)\n",
    "\n"
   ]
  },
  {
   "cell_type": "code",
   "execution_count": 92,
   "id": "18cf5ee6",
   "metadata": {},
   "outputs": [
    {
     "name": "stdout",
     "output_type": "stream",
     "text": [
      "--- 0.41092658042907715 seconds ---\n",
      "(array([ 17.36960331, 101.6171623 ]), array([[ 0.10477937, -0.04276395],\n",
      "       [-0.04276395,  0.02405143]]))\n",
      "(array([ -1.30078686, 108.77320603]), array([[ 7.11548891, -0.36611976],\n",
      "       [-0.36611976,  0.18475601]]))\n"
     ]
    }
   ],
   "source": [
    "sigma = 3.0\n",
    "x0 = y0 = 5\n",
    "def _jacobian_fix(M, A, bg):\n",
    "    x, y = M\n",
    "    return np.transpose(np.array([exp(-0.5*power(sigma,-2)*(power(x-x0,2) + power(y-y0,2))), np.ones(len(x))]))\n",
    "def _gaussian_fix(M, A, bg):\n",
    "    x, y = M\n",
    "    return bg + A*exp(-0.5*power(sigma,-2)*(power(x-x0,2) + power(y-y0,2)))\n",
    "                        \n",
    "p0 = [10,50]                        \n",
    "start_time = time.time()\n",
    "bnds = ([0,0], [np.inf, np.inf])\n",
    "\n",
    "for i in range(1000): popt = curve_fit(_gaussian_fix, xdata, Z, p0, jac = _jacobian_fix)\n",
    "print(\"--- %s seconds ---\" % (time.time() - start_time))\n",
    "\n",
    "print(popt)\n",
    "\n",
    "sigma = 1.0\n",
    "x0 = y0 = 8\n",
    "popt = curve_fit(_gaussian_fix, xdata, Z, p0, jac = _jacobian_fix)\n",
    "print(popt)\n"
   ]
  },
  {
   "cell_type": "code",
   "execution_count": 89,
   "id": "06624286",
   "metadata": {},
   "outputs": [
    {
     "name": "stdout",
     "output_type": "stream",
     "text": [
      "[ -1.30078686 108.77320603]\n"
     ]
    }
   ],
   "source": [
    "print(popt[0])"
   ]
  }
 ],
 "metadata": {
  "kernelspec": {
   "display_name": "Python 3 (ipykernel)",
   "language": "python",
   "name": "python3"
  },
  "language_info": {
   "codemirror_mode": {
    "name": "ipython",
    "version": 3
   },
   "file_extension": ".py",
   "mimetype": "text/x-python",
   "name": "python",
   "nbconvert_exporter": "python",
   "pygments_lexer": "ipython3",
   "version": "3.9.12"
  }
 },
 "nbformat": 4,
 "nbformat_minor": 5
}
