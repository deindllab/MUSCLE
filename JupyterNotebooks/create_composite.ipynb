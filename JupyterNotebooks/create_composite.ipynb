{
 "cells": [
  {
   "cell_type": "markdown",
   "id": "39901b11",
   "metadata": {},
   "source": [
    "Make a composite image"
   ]
  },
  {
   "cell_type": "code",
   "execution_count": 1,
   "id": "927c57b1",
   "metadata": {},
   "outputs": [],
   "source": [
    "import tkinter as tk\n",
    "from tkinter import filedialog\n",
    "import json\n",
    "import numpy as np\n",
    "root = tk.Tk()\n",
    "root.attributes(\"-topmost\", True)\n",
    "root.withdraw()\n",
    "\n",
    "file_path = filedialog.askopenfilename(title = \"Choose the position list\", initialdir = \"D:/Experiments/MUSCLE DONUTS/20220824_FC_Nano_Cas9_CCR5/parameter\")\n",
    "pos_file = open(file_path)\n",
    "data = json.load(pos_file)\n",
    "POS = data['POSITIONS']\n",
    "\n",
    "labels = [P['LABEL'] for P in POS]\n",
    "posX = [P['DEVICES'][0]['X'] for P in POS]\n",
    "posY = [P['DEVICES'][0]['Y'] for P in POS]\n",
    "\n",
    "from skimage import transform\n",
    "tr = transform.SimilarityTransform()\n",
    "tr.params = np.array([[ 5.98278480e-01, -2.04811207e-03,  0],\n",
    " [ 2.04811207e-03,  5.98278480e-01,  0],\n",
    " [ 0.00000000e+00,  0.00000000e+00,  1.00000000e+00]])\n",
    "tr_inv = transform.SimilarityTransform()\n",
    "tr_inv.params = np.array([[ 1.67127284e+00,  5.72133913e-03,  0],\n",
    " [-5.72133913e-03,  1.67127284e+00,  0],\n",
    " [ 0.00000000e+00,  0.00000000e+00,  1.00000000e+00]])\n",
    "\n",
    "import os.path as path\n",
    "import skimage as si\n",
    "import skimage.io as io\n",
    "\n",
    "\n",
    "size1 = tr([[256,512]]).astype(int)\n",
    "print(size1)\n",
    "\n",
    "minx = min(posX)\n",
    "maxx = max(posX)\n",
    "miny = min(posY)\n",
    "maxy = max(posY)\n",
    "\n",
    "size = [maxy-miny+50+size1[0,0], maxx-minx+50+size1[0,1]]\n",
    "size = np.divide(size,0.34).astype(int)\n",
    "print(size)\n",
    "\n",
    "img = np.zeros(size)\n",
    "\n",
    "rb_rad = 10         \n",
    "\n",
    "red_path = filedialog.askdirectory(title = \"Choose the bead directory\", initialdir = \"D:/Experiments/MUSCLE DONUTS/20220824_FC_Nano_Cas9_CCR5/parameter\")\n",
    "\n",
    "for pos in labels:\n",
    "    path1 = path.join(red_path,pos,'A_Red','img_000000000.tiff')\n",
    "#     path1 = path.join(red_path,pos+'.tiff')\n",
    "    if path.exists(path1):\n",
    "        print(pos)\n",
    "        img1 = io.imread(path1)\n",
    "        if img1.shape[0] == 512: # sometimes slice number is the first dimension, sometimes the third\n",
    "            img1 = np.mean(img1, axis = 2) #averaging by the stack\n",
    "        else:\n",
    "            img1 = np.mean(img1, axis = 0) #averaging by the stack\n",
    "#         img1 = np.mean(img1, axis = 0)\n",
    "#         img1 = np.mean(img1, axis = 2)\n",
    "        img1 = img1.astype(\"ushort\")\n",
    "        img1 = img1[256:,:]\n",
    "        img1 = img1 - si.restoration.rolling_ball(img1, radius=rb_rad)\n",
    "        img1 = transform.warp(img1, tr_inv, output_shape = size1[0])\n",
    "        x1 = [posX[i] for i,x in enumerate(labels) if labels[i]==pos]\n",
    "        y1 = [posY[i] for i,x in enumerate(labels) if labels[i]==pos]\n",
    "        id1 = int((maxy-y1[0])/0.34)\n",
    "        id2 = int((x1[0]-minx)/0.34)\n",
    "\n",
    "        img[id1:id1+size1[0,0],id2:id2+size1[0,1]] = img1\n",
    "        \n",
    "        \n",
    "from skimage.util import img_as_uint, img_as_ubyte\n",
    "img2 = img_as_uint(img)\n",
    "print(img2)\n",
    "io.imsave(red_path+'/Combined.png',img2)\n",
    "\n",
    "print(\"DONE\")"
   ]
  },
  {
   "cell_type": "markdown",
   "id": "b80ec02f",
   "metadata": {},
   "source": [
    "# END OF THE MAIN CYCLE"
   ]
  },
  {
   "cell_type": "code",
   "execution_count": 78,
   "id": "92143c1e",
   "metadata": {},
   "outputs": [
    {
     "name": "stdout",
     "output_type": "stream",
     "text": [
      "[27619.100000000002] [-1588.2] 2647 4205 Pos103\n"
     ]
    }
   ],
   "source": [
    "pos = 'Pos120'\n",
    "x1 = [posX[i] for i,x in enumerate(labels) if labels[i]==pos]\n",
    "y1 = [posY[i] for i,x in enumerate(labels) if labels[i]==pos]\n",
    "id1 = int((maxy-y1[0])/0.34)\n",
    "id2 = int((x1[0]-minx)/0.34)\n",
    "print(x1,y1,id1,id2,labels[0])"
   ]
  },
  {
   "cell_type": "code",
   "execution_count": 18,
   "id": "2834a1f5",
   "metadata": {},
   "outputs": [],
   "source": [
    "# x0 = 28523\n",
    "# y0 = -1313\n",
    "# idx = []\n",
    "# for i,lab in enumerate(labels):\n",
    "#     if abs(posX[i]-x0)<200 and abs(posY[i]-y0)<200:\n",
    "#         idx.append(lab)\n"
   ]
  },
  {
   "cell_type": "code",
   "execution_count": 19,
   "id": "99357abf",
   "metadata": {},
   "outputs": [],
   "source": [
    "\n",
    "# x1 = [posX[i] for i,x in enumerate(labels) if labels[i]=='Pos246']\n",
    "# y1 = [posY[i] for i,x in enumerate(labels) if labels[i]=='Pos246']\n",
    "# print(x1, y1)\n",
    "# # x1_old = [posX[i] for i,x in enumerate(labels) if labels[i]=='Pos246']\n",
    "# # y1_old = [posY[i] for i,x in enumerate(labels) if labels[i]=='Pos246']\n",
    "    \n",
    "# # print(2329+(x1[0]-28523)/0.34)\n",
    "# # print(2042-(y1[0]+1313)/0.34)"
   ]
  },
  {
   "cell_type": "code",
   "execution_count": 5,
   "id": "54489574",
   "metadata": {},
   "outputs": [
    {
     "name": "stdout",
     "output_type": "stream",
     "text": [
      "(512, 512, 3)\n"
     ]
    }
   ],
   "source": [
    "# pos = labels[10]\n",
    "# path1 = path.join(red_path,pos,'A_Red','img_000000000.tiff')\n",
    "# img1 = io.imread(path1)\n",
    "# print(img1.shape)"
   ]
  },
  {
   "cell_type": "code",
   "execution_count": 11,
   "id": "c52d17cd",
   "metadata": {},
   "outputs": [
    {
     "name": "stdout",
     "output_type": "stream",
     "text": [
      "(512, 512, 3)\n"
     ]
    }
   ],
   "source": [
    "# path1 = path.join(red_path,pos,'A_Red','img_000000000.tiff')\n",
    "# img1 = io.imread(path1)   \n",
    "# print(img1.shape)\n",
    "# pos = \"Pos400\"\n",
    "# path1 = path.join(red_path,pos,'A_Red','img_000000000.tiff')\n",
    "# img1 = io.imread(path1)"
   ]
  },
  {
   "cell_type": "code",
   "execution_count": 8,
   "id": "fc51959d",
   "metadata": {},
   "outputs": [],
   "source": [
    "# img2 = np.mean(img1, axis = 2)\n",
    "        \n",
    "# print(img2.shape)"
   ]
  }
 ],
 "metadata": {
  "kernelspec": {
   "display_name": "Python 3 (ipykernel)",
   "language": "python",
   "name": "python3"
  },
  "language_info": {
   "codemirror_mode": {
    "name": "ipython",
    "version": 3
   },
   "file_extension": ".py",
   "mimetype": "text/x-python",
   "name": "python",
   "nbconvert_exporter": "python",
   "pygments_lexer": "ipython3",
   "version": "3.9.12"
  }
 },
 "nbformat": 4,
 "nbformat_minor": 5
}
