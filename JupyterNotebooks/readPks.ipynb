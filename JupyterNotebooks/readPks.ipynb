{
 "cells": [
  {
   "cell_type": "code",
   "execution_count": 1,
   "metadata": {},
   "outputs": [],
   "source": [
    "import numpy as np\n",
    "from PIL import Image\n",
    "from skimage.filters import gaussian"
   ]
  },
  {
   "cell_type": "code",
   "execution_count": 2,
   "metadata": {},
   "outputs": [],
   "source": [
    "from cv2 import split\n",
    "\n",
    "\n",
    "def save_np_img(npimg, path):\n",
    "    img = Image.fromarray(npimg)\n",
    "    img = img.convert(\"L\")\n",
    "    img.save(path, dpi=(300.0, 300.0))\n",
    "\n",
    "\n",
    "pos = '246'\n",
    "# pks_path = '/Users/qinhanhou/Desktop/DeindlLab/220722/pks/Pos' + pos + '/Pos' + pos + '_Green.pks'\n",
    "pks_path = '/Volumes/Muscle/0804/Pos' + pos + '/Pos' + pos + '_Green.pks'\n",
    "blurred_img_path = '/Users/qinhanhou/Desktop/DeindlLab/0729Poly/0804/' + pos + '_pkimg.png'\n",
    "top_path = '/Users/qinhanhou/Desktop/DeindlLab/0729Poly/0804/' + pos + '_fret.png'\n",
    "number_matrix_path = '/Users/qinhanhou/Desktop/DeindlLab/0729Poly/0804/' + pos + '.npy'\n",
    "pks = open(pks_path, 'r')\n",
    "count = 0\n",
    "pk_img = np.zeros(shape=(512, 512))\n",
    "number_matrix = np.zeros(shape=(512, 512))\n",
    "while True:\n",
    "    count += 1\n",
    "    line = pks.readline()\n",
    "\n",
    "    if not line:\n",
    "        break\n",
    "    else:\n",
    "        split_arr = line.rstrip().split()\n",
    "        number = round(float(split_arr[0]))\n",
    "        x = round(float(split_arr[1]))\n",
    "        y = round(float(split_arr[2]))\n",
    "        y = 512 - y\n",
    "        # y = y\n",
    "        x = int(x)\n",
    "        pk_img[x][y] = 3200\n",
    "        if number % 2 == 0:\n",
    "            number_matrix[x - 256][y] = number\n",
    "        # pk_img[x-1][y] = 500\n",
    "        # pk_img[x][y-1] = 500\n",
    "        # pk_img[x+1][y] = 500\n",
    "        # pk_img[x][y+1] = 500\n",
    "        # pk_img[x-1][y-1] = 500\n",
    "        # pk_img[x + 1][y - 1] = 500\n",
    "        # pk_img[x + 1][y + 1] = 500\n",
    "        # pk_img[x - 1][y + 1] = 500\n",
    "# number_matrix = number_matrix * 512 / count\n",
    "pks.close()\n",
    "blurred_img = gaussian(pk_img, sigma=1, multichannel=False)\n",
    "save_np_img(blurred_img, blurred_img_path)\n",
    "save_np_img(blurred_img[257:, :], top_path)\n",
    "np.save(number_matrix_path, number_matrix)"
   ]
  }
 ],
 "metadata": {
  "kernelspec": {
   "display_name": "Python 3.9.6 ('donuts')",
   "language": "python",
   "name": "python3"
  },
  "language_info": {
   "codemirror_mode": {
    "name": "ipython",
    "version": 3
   },
   "file_extension": ".py",
   "mimetype": "text/x-python",
   "name": "python",
   "nbconvert_exporter": "python",
   "pygments_lexer": "ipython3",
   "version": "3.9.6"
  },
  "orig_nbformat": 4,
  "vscode": {
   "interpreter": {
    "hash": "09a6daa413063a39d67ff2395b4b7988be6704d7b326a0f0df1f4a2f602d4384"
   }
  }
 },
 "nbformat": 4,
 "nbformat_minor": 2
}
