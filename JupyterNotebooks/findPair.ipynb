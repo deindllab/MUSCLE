{
 "cells": [
  {
   "cell_type": "code",
   "execution_count": 1,
   "metadata": {},
   "outputs": [],
   "source": [
    "import numpy as np\n",
    "from PIL import Image"
   ]
  },
  {
   "cell_type": "code",
   "execution_count": 2,
   "metadata": {},
   "outputs": [],
   "source": [
    "pos = '153'\n",
    "number_matrix_path = '/Users/qinhanhou/Desktop/DeindlLab/220722/Res/NO' + pos + '.npy'\n",
    "\n",
    "number_matrix = np.load(number_matrix_path)"
   ]
  }
 ],
 "metadata": {
  "kernelspec": {
   "display_name": "Python 3.9.6 ('donuts')",
   "language": "python",
   "name": "python3"
  },
  "language_info": {
   "codemirror_mode": {
    "name": "ipython",
    "version": 3
   },
   "file_extension": ".py",
   "mimetype": "text/x-python",
   "name": "python",
   "nbconvert_exporter": "python",
   "pygments_lexer": "ipython3",
   "version": "3.9.6"
  },
  "orig_nbformat": 4,
  "vscode": {
   "interpreter": {
    "hash": "09a6daa413063a39d67ff2395b4b7988be6704d7b326a0f0df1f4a2f602d4384"
   }
  }
 },
 "nbformat": 4,
 "nbformat_minor": 2
}
