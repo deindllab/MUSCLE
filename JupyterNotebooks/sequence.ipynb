{
 "cells": [
  {
   "cell_type": "code",
   "execution_count": 244,
   "metadata": {},
   "outputs": [],
   "source": [
    "from Bio import SeqIO\n",
    "import numpy as np\n",
    "from PIL import Image\n",
    "from skimage.filters import gaussian\n",
    "import pandas as pd\n",
    "import Polywarp\n",
    "import skimage.io as io\n",
    "import matplotlib.pyplot as plt\n",
    "from skimage.feature import blob_log, blob_doh, blob_dog\n",
    "from scipy import ndimage\n",
    "from skimage.feature import peak_local_max\n",
    "from scipy import spatial\n",
    "from cmath import inf\n",
    "from skimage import transform\n",
    "from sklearn.metrics import mean_squared_error\n",
    "from numpy.linalg import norm\n",
    "from math import floor, ceil"
   ]
  },
  {
   "cell_type": "code",
   "execution_count": 245,
   "metadata": {},
   "outputs": [],
   "source": [
    "def residual_cal(src, dst):\n",
    "    \"\"\"This function is used to calculate the residual between src and dst.\n",
    "\n",
    "    Args:\n",
    "        src (numpy array): The source array having (N, 2) shape with N points.\n",
    "        dst (numpy array): The destination array having (N, 2) shape with N points.\n",
    "\n",
    "    Returns:\n",
    "        mse: The mean squared error between these two arraies.\n",
    "    \"\"\"\n",
    "    mse = mean_squared_error(src, dst)\n",
    "    return mse\n",
    "def count_nearest_pts(src, dst, radius):\n",
    "    \"\"\"Counting the number of nearest neighbors for each given point.\n",
    "\n",
    "    Args:\n",
    "        src (numpy array): (N, 2) shape array. Build the kd tree based on this.\n",
    "        dst (numpy array): (N, 2) shape array. For each point in this array, find the nearest neighbors in src array.\n",
    "        radius (int): The maximum searching radius.\n",
    "\n",
    "    Returns:\n",
    "        res, idx: res is the distance for the point and its neighbor, 'inf' means no neighbor in given search radius. \n",
    "        idx is the index for the neighbor in src array.\n",
    "    \"\"\"\n",
    "    tree = spatial.KDTree(src)\n",
    "    res, idx = tree.query(dst, k=1, distance_upper_bound=radius)\n",
    "    for i in range(0, len(idx)):\n",
    "        if len(np.argwhere(idx == idx[i])) > 1:\n",
    "            res[i] = inf\n",
    "    return res, idx\n",
    "\n",
    "def blob_detection(img, min_sigma, max_sigma, threshold, method=0):\n",
    "    \"\"\"This function is mostly used for detecting the beads in any image.\n",
    "\n",
    "    Args:\n",
    "        img_path (string): The absolute path of the input image.\n",
    "        min_sigma (int): The minimum sigma, lower it is, smaller the blob will be detected.\n",
    "        max_sigma (int): The maximum sigma, higher it is, bigger the blob will be detected.\n",
    "        threshold (float): Higher it is, higher the intensities of blobs.\n",
    "        method (int, optional): 0 for Difference of Gaussian (DoG) and 1 for Determinant of Hessian (DoH). \n",
    "        They should be applied with different combination of parameters. DoG is more suitable for fret movies,\n",
    "        while DoH is more suitable for sequencing images. Defaults to 0.\n",
    "\n",
    "    Returns:\n",
    "        centers: A numpy array containing the coordinates of all the centers.\n",
    "    \"\"\"\n",
    "    #img = io.imread(img_path)\n",
    "    if method == 2: #Local maxima\n",
    "        coordinates = peak_local_max(img, min_distance=5)\n",
    "        centers = []\n",
    "        h, w = img.shape\n",
    "        r = 3\n",
    "        for i in range(coordinates.shape[0]):\n",
    "            y, x = coordinates[i]\n",
    "            if y > r and y < (h - r) and x > r and x < (w - r):\n",
    "                centers.append(\n",
    "                    ndimage.measurements.center_of_mass(\n",
    "                        img[int(y - r) : int(y + r + 1), int(x - r) : int(x + r + 1)]\n",
    "                    )\n",
    "                )\n",
    "                centers[i] = list(np.add(centers[i], [x - r, y - r]))\n",
    "                i += 1\n",
    "        \n",
    "    else:\n",
    "    \n",
    "        if method == 0:\n",
    "            blob = blob_dog(\n",
    "                img, min_sigma=min_sigma, max_sigma=max_sigma, threshold=threshold\n",
    "            )\n",
    "        else:\n",
    "            blob = blob_doh(\n",
    "                img, min_sigma=min_sigma, max_sigma=max_sigma, threshold=threshold\n",
    "            )\n",
    "#         i = 0\n",
    "        r = 3\n",
    "        centers = []\n",
    "        h, w = img.shape\n",
    "        for blob in blob:\n",
    "            y, x = blob\n",
    "            if y > r and y < (h - r) and x > r and x < (w - r):\n",
    "                centers.append(\n",
    "                    ndimage.measurements.center_of_mass(\n",
    "                        img[int(y - r) : int(y + r + 1), int(x - r) : int(x + r + 1)]\n",
    "                    )\n",
    "                )\n",
    "                centers[i] = list(np.add(centers[i], [x - r, y - r]))\n",
    "#                 i += 1\n",
    "    return np.array(centers)\n",
    "\n",
    "def show_blob_detection_res(img, centers):\n",
    "    \"\"\"\n",
    "    Showing the result of 'blob detection' function. Used as the same way of 'blob_detection'\n",
    "    \"\"\"\n",
    "    fig, ax = plt.subplots()\n",
    "    #img = io.imread(img_path)\n",
    "    ax.imshow(img)\n",
    "    \n",
    "    \n",
    "    r = 3\n",
    "    [h, w] = img.shape\n",
    "    for i in range(centers.shape[0]):\n",
    "        x, y = centers[i,:]\n",
    "        # print(r)\n",
    "\n",
    "        c = plt.Circle([x, y], 3, color=\"red\", linewidth=1, fill=False)\n",
    "        ax.add_patch(c)\n",
    "        i += 1\n",
    "    ax.set_axis_off()\n",
    "    plt.show()"
   ]
  },
  {
   "cell_type": "code",
   "execution_count": 246,
   "metadata": {},
   "outputs": [],
   "source": [
    "def get_pos(record):\n",
    "    des = record.description\n",
    "    tile_num = int(des.split(' ')[0].split(':')[4])\n",
    "    x_pos = int(des.split(' ')[0].split(':')[5])\n",
    "    y_pos = int(des.split(' ')[0].split(':')[6])\n",
    "    return tile_num, x_pos, y_pos\n",
    "\n",
    "\n",
    "def generate_img(x, y, x_min, y_min, x_max, y_max, op_path, r, blurred, sigma):\n",
    "    # x_min = min(x)\n",
    "    # x_max = max(x)\n",
    "    # y_min = min(y)\n",
    "    # y_max = max(y)\n",
    "    x_range = x_max - x_min + 1\n",
    "    y_range = y_max - y_min + 1\n",
    "    # x_range = 27994\n",
    "    # y_range = 27174\n",
    "    img = np.zeros(shape=(x_range, y_range))\n",
    "    for i in range(0, len(x)):\n",
    "        img[max(0,int(x[i])-r):min(x_range,int(x[i]+r+1)),max(0,int(y[i])-r):min(y_range,int(y[i]+r+1))] = 200\n",
    "\n",
    "    if blurred:\n",
    "        img = gaussian(img, sigma=sigma)\n",
    "    im = Image.fromarray(img)\n",
    "    new_im = im.convert(\"L\")\n",
    "    new_im.save(op_path)\n",
    "\n",
    "\n",
    "def generate_with_marker(x, y, marker_x, marker_y, op_path, csv_path):\n",
    "    x_min = min(x)\n",
    "    x_max = max(x)\n",
    "    y_min = min(y)\n",
    "    y_max = max(y)\n",
    "    x_range = x_max - x_min + 1\n",
    "    y_range = y_max - y_min + 1\n",
    "    img = np.zeros(shape=(x_range, y_range, 3))\n",
    "    marker_dic = {'index': range(0, len(marker_x)), 'x': [], 'y': []}\n",
    "    for i in range(0, len(x)):\n",
    "        for j in range(0, 5):\n",
    "            for k in range(0, 5):\n",
    "                img[max(0, x[i] - x_min - j),\n",
    "                    max(0, y[i] - y_min - k), 0:3] = 255\n",
    "                img[min(x_range - 1, x[i] - x_min + j),\n",
    "                    max(0, y[i] - y_min - k), 0:3] = 255\n",
    "                img[min(x_range - 1, x[i] - x_min + j),\n",
    "                    min(y_range - 1, y[i] - y_min + k), 0:3] = 255\n",
    "                img[max(0, x[i] - x_min - j),\n",
    "                    min(y_range - 1, y[i] - y_min + k), 0:3] = 255\n",
    "    for i in range(0, len(marker_x)):\n",
    "        marker_dic['x'].append(marker_x[i] - x_min)\n",
    "        marker_dic['y'].append(marker_y[i] - y_min)\n",
    "        for j in range(0, 5):\n",
    "            for k in range(0, 5):\n",
    "                img[max(0, marker_x[i] - x_min - j),\n",
    "                    max(0, marker_y[i] - y_min - k), 0] = 255\n",
    "                img[max(0, marker_x[i] - x_min - j),\n",
    "                    max(0, marker_y[i] - y_min - k), 1:3] = 0\n",
    "                img[min(x_range - 1, marker_x[i] - x_min + j),\n",
    "                    max(0, marker_y[i] - y_min - k), 0] = 255\n",
    "                img[min(x_range - 1, marker_x[i] - x_min + j),\n",
    "                    max(0, marker_y[i] - y_min - k), 1:3] = 0\n",
    "                img[min(x_range - 1, marker_x[i] - x_min + j),\n",
    "                    min(y_range - 1, marker_y[i] - y_min + k), 0] = 255\n",
    "                img[min(x_range - 1, marker_x[i] - x_min + j),\n",
    "                    min(y_range - 1, marker_y[i] - y_min + k), 1:3] = 0\n",
    "                img[max(0, marker_x[i] - x_min - j),\n",
    "                    min(y_range - 1, marker_y[i] - y_min + k), 0] = 255\n",
    "                img[max(0, marker_x[i] - x_min - j),\n",
    "                    min(y_range - 1, marker_y[i] - y_min + k), 1:3] = 0\n",
    "    blurred_img = gaussian(img, sigma=3, multichannel=True)\n",
    "    im = Image.fromarray(blurred_img.astype(np.uint8))\n",
    "    new_im = im.convert(\"P\")\n",
    "    new_im.save(op_path)\n",
    "    df = pd.DataFrame(marker_dic)\n",
    "    df.to_csv(csv_path, index=True, header=True)\n",
    "\n",
    "\n",
    "def get_coordinates(fastq_path):\n",
    "    x_coordinate_01 = []\n",
    "    y_coordinate_01 = []\n",
    "    x_coordinate_02 = []\n",
    "    y_coordinate_02 = []\n",
    "    for record in SeqIO.parse(fastq_path, \"fastq\"):\n",
    "        if record is not None:\n",
    "            tile_num, x_pos, y_pos = get_pos(record)\n",
    "            seq = str(record.seq)\n",
    "            if tile_num == 1101:\n",
    "                x_coordinate_01.append(x_pos)\n",
    "                y_coordinate_01.append(y_pos)\n",
    "            elif tile_num == 1102:\n",
    "                x_coordinate_02.append(x_pos)\n",
    "                y_coordinate_02.append(y_pos)\n",
    "    print('Coordinates are found.')\n",
    "    return x_coordinate_01, y_coordinate_01, x_coordinate_02, y_coordinate_02\n",
    "\n",
    "\n",
    "def get_xy_coordinates(fastq_path, with_seq):\n",
    "    x_coordinate_01 = []\n",
    "    y_coordinate_01 = []\n",
    "    x_coordinate_02 = []\n",
    "    y_coordinate_02 = []\n",
    "    x_seq_coordinate_01 = []\n",
    "    y_seq_coordinate_01 = []\n",
    "    x_seq_coordinate_02 = []\n",
    "    y_seq_coordinate_02 = []\n",
    "    for record in SeqIO.parse(fastq_path, \"fastq\"):\n",
    "        if record is not None:\n",
    "            tile_num, x_pos, y_pos = get_pos(record)\n",
    "            seq = str(record.seq)\n",
    "            if tile_num == 1101:\n",
    "                if with_seq != seq:\n",
    "                    x_coordinate_01.append(x_pos)\n",
    "                    y_coordinate_01.append(y_pos)\n",
    "                else:\n",
    "                    x_seq_coordinate_01.append(x_pos)\n",
    "                    y_seq_coordinate_01.append(y_pos)\n",
    "            elif tile_num == 1102:\n",
    "                if with_seq != seq:\n",
    "                    x_coordinate_02.append(x_pos)\n",
    "                    y_coordinate_02.append(y_pos)\n",
    "                else:\n",
    "                    x_seq_coordinate_02.append(x_pos)\n",
    "                    y_seq_coordinate_02.append(y_pos)\n",
    "    print('Coordinates are found.')\n",
    "    return x_coordinate_01, y_coordinate_01, \\\n",
    "        x_coordinate_02, y_coordinate_02, \\\n",
    "        x_seq_coordinate_01, y_seq_coordinate_01, \\\n",
    "        x_seq_coordinate_02, y_seq_coordinate_02\n",
    "\n",
    "\n",
    "def get_seq_coordinates(fastq_path, with_seq_1, with_seq_2):\n",
    "    x_coordinate_01 = []\n",
    "    y_coordinate_01 = []\n",
    "    x_coordinate_02 = []\n",
    "    y_coordinate_02 = []\n",
    "    max_x = 0\n",
    "    max_y = 0\n",
    "    min_x = 9e7\n",
    "    min_y = 9e7\n",
    "    for record in SeqIO.parse(fastq_path, \"fastq\"):\n",
    "        if record is not None:\n",
    "            tile_num, x_pos, y_pos = get_pos(record)\n",
    "            if x_pos > max_x:\n",
    "                max_x = x_pos\n",
    "            if x_pos < min_x:\n",
    "                min_x = x_pos\n",
    "            if y_pos > max_y:\n",
    "                max_y = y_pos\n",
    "            if y_pos < min_y:\n",
    "                min_y = y_pos\n",
    "            seq = str(record.seq)\n",
    "            if tile_num == 1101:\n",
    "                if with_seq_1 in seq or with_seq_2 in seq:\n",
    "                    x_coordinate_01.append(x_pos)\n",
    "                    y_coordinate_01.append(y_pos)\n",
    "            elif tile_num == 1102:\n",
    "                if with_seq_1 in seq or with_seq_2 in seq:\n",
    "                    x_coordinate_02.append(x_pos)\n",
    "                    y_coordinate_02.append(y_pos)\n",
    "    print('Coordinates are found.')\n",
    "    return x_coordinate_01, y_coordinate_01, x_coordinate_02, y_coordinate_02, max_x, max_y\n",
    "\n",
    "\n",
    "\n",
    "\n",
    "\n",
    "# def get_seq_coordinates(fastq_path, lib_seq):\n",
    "#     x_coordinate_01 = []\n",
    "#     y_coordinate_01 = []\n",
    "#     x_coordinate_02 = []\n",
    "#     y_coordinate_02 = []\n",
    "#     max_x_1 = 0\n",
    "#     max_y_1 = 0\n",
    "#     max_x_2 = 0\n",
    "#     max_y_2 = 0\n",
    "    \n",
    "#     for record in SeqIO.parse(fastq_path, \"fastq\"):\n",
    "#         if record is not None:\n",
    "#             tile_num, x_pos, y_pos = get_pos(record)\n",
    "#             seq = str(record.seq)\n",
    "#             if tile_num == 1101:\n",
    "#                 if \n",
    "#                 if lib_seq in seq:\n",
    "#                     x_coordinate_01.append(x_pos)\n",
    "#                     y_coordinate_01.append(y_pos)\n",
    "#             elif tile_num == 1102:\n",
    "#                 if lib_seq in seq:\n",
    "#                     x_coordinate_02.append(x_pos)\n",
    "#                     y_coordinate_02.append(y_pos)\n",
    "#     print('Coordinates are found.')\n",
    "#     return x_coordinate_01, y_coordinate_01, x_coordinate_02, y_coordinate_02\n"
   ]
  },
  {
   "cell_type": "code",
   "execution_count": 14,
   "metadata": {},
   "outputs": [
    {
     "name": "stdout",
     "output_type": "stream",
     "text": [
      "[]\n"
     ]
    }
   ],
   "source": [
    "print(img[2:2,2:2])"
   ]
  },
  {
   "cell_type": "code",
   "execution_count": 14,
   "metadata": {},
   "outputs": [
    {
     "name": "stdout",
     "output_type": "stream",
     "text": [
      "Coordinates are found.\n"
     ]
    }
   ],
   "source": [
    "# Test\n",
    "fastq_path = '/Users/qinhanhou/Desktop/DeindlLab/220722/SeqRes/donuts_1/Donuts1/0722.fastq'\n",
    "x_coordinate_01, y_coordinate_01, x_coordinate_02, y_coordinate_02 \\\n",
    "    = get_seq_coordinates(fastq_path, 'A', 'qwwdasdqwraszdqwqw')\n",
    "x_coordinate_01 = x_coordinate_01[10000:11000]\n",
    "y_coordinate_01 = y_coordinate_01[10000:11000]\n",
    "\n",
    "\n",
    "generate_img(x_coordinate_01, y_coordinate_01,\n",
    "             '/Users/qinhanhou/Desktop/DeindlLab/220722/SeqImg/test.png', 1, False, 4)"
   ]
  },
  {
   "cell_type": "code",
   "execution_count": 77,
   "metadata": {},
   "outputs": [],
   "source": [
    "def get_seq_coordinates_v2(fastq_path, with_seq, tile):\n",
    "    x_coordinate = []\n",
    "    y_coordinate = []\n",
    "    max_x = 0\n",
    "    max_y = 0\n",
    "    min_x = 9e7\n",
    "    min_y = 9e7\n",
    "    for record in SeqIO.parse(fastq_path, \"fastq\"):\n",
    "        if record is not None:\n",
    "            tile_num, x_pos, y_pos = get_pos(record)\n",
    "            x_pos = x_pos/10\n",
    "            y_pos = y_pos/10\n",
    "\n",
    "            seq = str(record.seq)\n",
    "            if tile_num == tile:\n",
    "                if x_pos > max_x:\n",
    "                    max_x = x_pos\n",
    "                if x_pos < min_x:\n",
    "                    min_x = x_pos\n",
    "                if y_pos > max_y:\n",
    "                    max_y = y_pos\n",
    "                if y_pos < min_y:\n",
    "                    min_y = y_pos\n",
    "                if with_seq in seq:\n",
    "                    x_coordinate.append(x_pos)\n",
    "                    y_coordinate.append(y_pos)\n",
    "    print('Coordinates are found.')\n",
    "    return x_coordinate, y_coordinate, max_x, max_y, min_x, min_y\n",
    "\n",
    "# def generate_img_v2(x, y, x_min, y_min, x_max, y_max, op_path, r, blurred, sigma):\n",
    "    "
   ]
  },
  {
   "cell_type": "code",
   "execution_count": 83,
   "metadata": {},
   "outputs": [
    {
     "name": "stdout",
     "output_type": "stream",
     "text": [
      "Coordinates are found.\n",
      "2885\n",
      "172.3\n",
      "2972\n",
      "133.3\n",
      "2712.7\n"
     ]
    }
   ],
   "source": [
    "import tkinter as tk\n",
    "from tkinter import filedialog\n",
    "from math import ceil\n",
    "# root = tk.Tk()\n",
    "# root.attributes(\"-topmost\", True)\n",
    "# root.withdraw()\n",
    "\n",
    "fastq_path = filedialog.askopenfilename(title = \"Choose the FASTQ file\", initialdir = \"D:/Experiments/MUSCLE DONUTS/20220824_FC_Nano_Cas9_CCR5/\")\n",
    "\n",
    "# x_coordinate_01m, y_coordinate_01m, x_coordinate_02m, y_coordinate_02m, max_x, max_y, min_x, min_y \\\n",
    "#     = get_seq_coordinates(fastq_path, 'GGTCTCGTCCAATCTAT', 'qwwdasdqwraszdqwqw')\n",
    "# x_coordinate_01, y_coordinate_01, x_coordinate_02, y_coordinate_02 \\\n",
    "#     = get_seq_coordinates(fastq_path, 'A', 'qwwdasdqwraszdqwqw')\n",
    "x_coord, y_coord, max_x, max_y, min_x, min_y = get_seq_coordinates_v2(fastq_path=fastq_path, with_seq='A', tile=1101)\n",
    "# print(len(x_coordinate_01))\n",
    "# print(len(x_coordinate_02))\n",
    "# print(np.max(x_coordinate_01))\n",
    "# print(np.min(x_coordinate_01))\n",
    "x_coord1 = np.subtract(max_y, y_coord)\n",
    "y_coord = np.subtract(max_x, x_coord)\n",
    "x_coord = x_coord1\n",
    "max_x1 = ceil(max_y)\n",
    "max_y = ceil(max_x)\n",
    "max_x = max_x1\n",
    "# max_x = ceil(max_x)\n",
    "# max_y = ceil(max_y)\n",
    "print(max_x)\n",
    "print(min_x)\n",
    "print(max_y)\n",
    "print(min_y)\n",
    "print(max_x - min_x)\n",
    "# generate_with_marker(x_coordinate_01, y_coordinate_01, x_coordinate_01m, y_coordinate_01m,\n",
    "#   '/Users/qinhanhou/Desktop/DeindlLab/220722/SeqImg/1101_marked_sigma3.png',\n",
    "#   '/Users/qinhanhou/Desktop/DeindlLab/220722/SeqImg/1101_marked_sigma3.csv')\n",
    "generate_img(y_coord,x_coord, 0, 0, max_y, max_x,\n",
    "             'D:/Experiments/MUSCLE DONUTS/220719/FASTQ_image.png', 1, True, 1)\n",
    "# generate_img(x_coordinate_02, y_coordinate_02,\n",
    "            #  '/Users/qinhanhou/Desktop/DeindlLab/220722/SeqImg/1102_full_sigma3.png', 3, True, 4)\n"
   ]
  },
  {
   "cell_type": "code",
   "execution_count": 81,
   "metadata": {},
   "outputs": [
    {
     "name": "stdout",
     "output_type": "stream",
     "text": [
      "D:/Experiments/MUSCLE DONUTS/220719/0714.fastq\n"
     ]
    }
   ],
   "source": [
    "print(fastq_path)"
   ]
  },
  {
   "cell_type": "code",
   "execution_count": 91,
   "metadata": {},
   "outputs": [],
   "source": [
    "x_coord_cor = np.add(x_coord,19.815)\n",
    "y_coord_cor = np.add(y_coord,27.14)\n",
    "# generate_img(np.add(y_coord,27.14),np.add(x_coord,19.815), 0, 0, 2943,2865,\n",
    "#              'D:/Experiments/MUSCLE DONUTS/220719/FASTQ_image.png', 1, True, 1)"
   ]
  },
  {
   "cell_type": "code",
   "execution_count": 15,
   "metadata": {},
   "outputs": [],
   "source": [
    "seq_path = filedialog.askopenfilename(title = \"Choose the seq file\", initialdir = \"D:/Experiments/MUSCLE DONUTS/220719/\")\n",
    "seq_img = io.imread(seq_path)"
   ]
  },
  {
   "cell_type": "code",
   "execution_count": 92,
   "metadata": {},
   "outputs": [],
   "source": [
    "\n",
    "seq_centers = blob_detection(\n",
    "    seq_img,\n",
    "    min_sigma=1,\n",
    "    max_sigma=5,\n",
    "    threshold=0.001,\n",
    "    method=2\n",
    ")\n",
    "\n",
    "# show_blob_detection_res(\n",
    "#     seq_img,\n",
    "#     seq_centers)"
   ]
  },
  {
   "cell_type": "code",
   "execution_count": 95,
   "metadata": {},
   "outputs": [],
   "source": [
    "\n",
    "FQ_centers_ori = np.c_[x_coord,y_coord]\n",
    "FQ_centers = np.c_[x_coord_cor,y_coord_cor]"
   ]
  },
  {
   "cell_type": "code",
   "execution_count": 96,
   "metadata": {},
   "outputs": [
    {
     "name": "stdout",
     "output_type": "stream",
     "text": [
      "[2769.215 1483.54 ]\n"
     ]
    }
   ],
   "source": [
    "print(FQ_centers[10])"
   ]
  },
  {
   "cell_type": "code",
   "execution_count": 93,
   "metadata": {},
   "outputs": [],
   "source": [
    "max_x3 = 2865\n",
    "max_y3 = 2943\n",
    "# seq_centers = np.add(seq_centers, 0.5)\n",
    "\n",
    "generate_img(seq_centers[:,1], seq_centers[:,0], 0, 0, max_y3, max_x3,\n",
    "             'D:/Experiments/MUSCLE DONUTS/220719/Clusters_1.png', 1, True, 1)"
   ]
  },
  {
   "cell_type": "code",
   "execution_count": 117,
   "metadata": {},
   "outputs": [
    {
     "name": "stdout",
     "output_type": "stream",
     "text": [
      "6\n"
     ]
    }
   ],
   "source": [
    "\n"
   ]
  },
  {
   "cell_type": "code",
   "execution_count": 101,
   "metadata": {},
   "outputs": [
    {
     "name": "stdout",
     "output_type": "stream",
     "text": [
      "18748 of 238665\n"
     ]
    }
   ],
   "source": [
    "# FQ_centers = tr(np.append(x_coord,y_coord, axis = 1))\n",
    "res, idx = count_nearest_pts(FQ_centers, seq_centers, 2)\n",
    "movie_centers1 = FQ_centers_ori[idx[np.where(res != inf)]]\n",
    "seq_centers1 = seq_centers[np.where(res != inf)]\n",
    "print(seq_centers1.shape[0], 'of', len(x_coord))"
   ]
  },
  {
   "cell_type": "code",
   "execution_count": 134,
   "metadata": {},
   "outputs": [],
   "source": [
    "x1 = 500\n",
    "x2 = 850\n",
    "y1 = 400\n",
    "y2 = 600\n",
    "x_seq = seq_centers[:,0]\n",
    "y_seq = seq_centers[:,1]\n",
    "# np.where(x_seq>=x1)\n",
    "seq_centers_cropped = seq_centers[np.where((x_seq<=x2)&(x_seq>=x1)&(y_seq<=y2)&(y_seq>=y1))]"
   ]
  },
  {
   "cell_type": "code",
   "execution_count": 142,
   "metadata": {},
   "outputs": [
    {
     "name": "stdout",
     "output_type": "stream",
     "text": [
      "(510, 2) (238665, 2)\n"
     ]
    }
   ],
   "source": [
    "src = seq_centers_cropped\n",
    "dst = FQ_centers_ori\n",
    "print(src.shape,dst.shape)"
   ]
  },
  {
   "cell_type": "code",
   "execution_count": 197,
   "metadata": {},
   "outputs": [
    {
     "data": {
      "text/plain": [
       "(array([    0,     1,     2, ..., 60248, 60249, 60250], dtype=int64),)"
      ]
     },
     "execution_count": 197,
     "metadata": {},
     "output_type": "execute_result"
    }
   ],
   "source": [
    "np.where(seq_centers[:,1]>100)\n",
    "    "
   ]
  },
  {
   "cell_type": "code",
   "execution_count": 186,
   "metadata": {},
   "outputs": [],
   "source": [
    "np.save('D:/Experiments/MUSCLE DONUTS/220719/src_temp.npy',src)\n",
    "\n",
    "np.save('D:/Experiments/MUSCLE DONUTS/220719/dst_temp.npy',dst)"
   ]
  },
  {
   "cell_type": "code",
   "execution_count": 199,
   "metadata": {},
   "outputs": [
    {
     "name": "stdout",
     "output_type": "stream",
     "text": [
      "[[0. 0. 0. ... 0. 0. 0.]\n",
      " [0. 0. 0. ... 0. 0. 0.]\n",
      " [0. 0. 0. ... 0. 0. 0.]\n",
      " ...\n",
      " [0. 0. 0. ... 0. 0. 0.]\n",
      " [0. 0. 0. ... 0. 0. 0.]\n",
      " [0. 0. 0. ... 0. 0. 0.]]\n"
     ]
    }
   ],
   "source": [
    "# src is a cropped cluster list, dst is all FASTQ coordinates\n",
    "x_s = src[:,0]\n",
    "y_s = src[:,1]\n",
    "x_d = dst[:,0]\n",
    "y_d = dst[:,1]\n",
    "\n",
    "min_x_s = floor(min(x_s))\n",
    "max_x_s = ceil(max(x_s))\n",
    "min_y_s = floor(min(y_s))\n",
    "max_y_s = ceil(max(y_s))\n",
    "w_s = max_y_s - min_y_s\n",
    "h_s = max_x_s - min_x_s\n",
    "\n",
    "min_x_d = floor(min(x_d))\n",
    "max_x_d = ceil(max(x_d))\n",
    "min_y_d = floor(min(y_d))\n",
    "max_y_d = ceil(max(y_d))\n",
    "w_d = max_y_d - min_y_d\n",
    "h_d = max_x_d - min_x_d\n",
    "\n",
    "dx = min_x_d - min_x_s\n",
    "dy = min_y_d - min_y_s\n",
    "src1 = np.add(src, [dx,dy])\n",
    "w_score = w_d-w_s\n",
    "h_score = h_d-h_s\n",
    "\n",
    "# score = np.zeros([w_score,h_score])\n",
    "score = np.zeros([100,100])\n",
    "\n",
    "radius = 2\n",
    "it = np.nditer(score, flags=['multi_index'], op_flags=['writeonly'])\n",
    "\n",
    "for x in it:\n",
    "    dx, dy = it.multi_index\n",
    "    x1 = min_x_d + dx\n",
    "    y1 = min_y_d + dy\n",
    "    x2 = x1 + h_s\n",
    "    y2 = y1 + w_s\n",
    "    \n",
    "    dst1 = dst[np.where((dst[:,0]<=x2)&(dst[:,0]>=x1)&(dst[:,1]<=y2)&(dst[:,1]>=y1))]\n",
    "    tree = spatial.KDTree(dst1)\n",
    "    src2 = np.add(src1,it.multi_index)\n",
    "    res, idx = tree.query(src2, k=1, distance_upper_bound=radius)\n",
    "#     for i in range(0, len(idx)):\n",
    "#         if len(np.argwhere(idx == idx[i])) > 1:\n",
    "#             res[i] = inf\n",
    "#     src2 = src2[np.where(res != inf)]\n",
    "#     dst2 = dst[idx[np.where(res != inf)]]\n",
    "#     x[...] = radius*src2.shape[0]-sum(norm(np.subtract(src2,dst2),axis=1))\n",
    "\n",
    "# # it = np.nditer(a, flags=['multi_index'])\n",
    "\n",
    "# for x in it:\n",
    "#     print(\"%d <%s>\" % (x, it.multi_index), end=' ')\n",
    "print(score) "
   ]
  },
  {
   "cell_type": "code",
   "execution_count": 224,
   "metadata": {},
   "outputs": [],
   "source": [
    "import open3d as o3d\n",
    "initial_T = np.identity(4)\n",
    "length = src.shape[0]\n",
    "src3d = np.concatenate((src,np.zeros([length,1])),axis = 1)\n",
    "src_cloud = o3d.geometry.PointCloud()\n",
    "src_cloud.points = o3d.utility.Vector3dVector(src3d)\n",
    "distance = 3\n",
    "\n",
    "length = dst.shape[0]\n",
    "dst3d = np.concatenate((dst,np.zeros([length,1])),axis = 1)\n",
    "dst_cloud = o3d.geometry.PointCloud()\n",
    "dst_cloud.points = o3d.utility.Vector3dVector(dst3d)\n",
    "\n",
    "# Define the type of registration:\n",
    "type = o3d.pipelines.registration.TransformationEstimationPointToPoint(False)\n",
    "# \"False\" means rigid transformation, scale = 1\n",
    "\n",
    "# Define the number of iterations (I'll use 100):\n",
    "iterations = o3d.pipelines.registration.ICPConvergenceCriteria(max_iteration = 100)\n",
    "\n",
    "# Do the registration:\n",
    "result = o3d.pipelines.registration.registration_icp(src_cloud, dst_cloud, distance, initial_T, type, iterations)\n"
   ]
  },
  {
   "cell_type": "code",
   "execution_count": 237,
   "metadata": {},
   "outputs": [
    {
     "name": "stdout",
     "output_type": "stream",
     "text": [
      "233\n",
      "213\n"
     ]
    }
   ],
   "source": [
    "res, idx = count_nearest_pts(dst, src, 2)\n",
    "srct =dst[np.where(res != inf)] \n",
    "print(srct.shape[0])\n",
    "res, idx = count_nearest_pts(dst,np.add(src,[-5.5, 6.7]), 2)\n",
    "srct =dst[np.where(res != inf)] \n",
    "print(srct.shape[0])\n"
   ]
  },
  {
   "cell_type": "code",
   "execution_count": null,
   "metadata": {},
   "outputs": [],
   "source": [
    "src_cloud.points = o3d.utility.Vector3dVector(np.add(src3d,[-5.5,6.7,0]))\n",
    "src_cloud.colors = o3d.utility.Vector3dVector(np.add(np.zeros(src3d.shape),[255,0,0]))\n",
    "o3d.visualization.draw_geometries([src_cloud,dst_cloud])"
   ]
  },
  {
   "cell_type": "code",
   "execution_count": 189,
   "metadata": {},
   "outputs": [],
   "source": [
    "tree = spatial.KDTree(dst)\n",
    "res, idx = tree.query(src2, k=1, distance_upper_bound=radius)"
   ]
  },
  {
   "cell_type": "code",
   "execution_count": 163,
   "metadata": {},
   "outputs": [
    {
     "name": "stdout",
     "output_type": "stream",
     "text": [
      "1.9904729531762613\n"
     ]
    }
   ],
   "source": [
    "print(max(norm(np.subtract(src1,dst1),axis=1)))\n"
   ]
  },
  {
   "cell_type": "code",
   "execution_count": 122,
   "metadata": {},
   "outputs": [
    {
     "name": "stdout",
     "output_type": "stream",
     "text": [
      "38859 of 238665\n",
      "[[ 1.87990517e+01  4.42848180e-04  1.38004690e-06 -7.49012658e-10]\n",
      " [ 1.00086460e+00 -3.51791821e-07 -2.36607572e-09  1.35363150e-12]\n",
      " [ 2.03006046e-06 -6.32434994e-09  6.32604768e-12 -1.91244407e-15]\n",
      " [-1.12720731e-09  3.15110134e-12 -2.70008445e-15  7.05863419e-19]]\n",
      "[[ 2.89151130e+01  9.98907047e-01 -2.37332801e-06  8.95351204e-10]\n",
      " [-8.34605080e-04 -1.22603078e-05  2.09802786e-08 -6.10987526e-12]\n",
      " [-8.64258103e-07  1.50746387e-08 -2.13880377e-11  6.00164191e-15]\n",
      " [ 3.21906655e-10 -3.98928311e-12  5.37321992e-15 -1.48433631e-18]]\n",
      "Residuals after poly (order = 3) transformation:  2.5935181124131796\n",
      "Residuals before transformation:  565.467516026154\n"
     ]
    }
   ],
   "source": [
    "FQ_centers = tr(FQ_centers_ori)\n",
    "res, idx = count_nearest_pts(FQ_centers, seq_centers, 4)\n",
    "movie_centers1 = FQ_centers_ori[idx[np.where(res != inf)]]\n",
    "seq_centers1 = seq_centers[np.where(res != inf)]\n",
    "print(seq_centers1.shape[0], 'of', len(x_coord))\n",
    "\n",
    "\n",
    "order = 3\n",
    "kx,ky = Polywarp.polywarp(seq_centers1[:,0],seq_centers1[:,1],movie_centers1[:,0],movie_centers1[:,1],degree=order)\n",
    "print(kx)\n",
    "print(ky)\n",
    "tr = transform.PolynomialTransform()\n",
    "#tr.estimate(src,dst,order = 2)\n",
    "\n",
    "order1 = 2*order\n",
    "pidx = 0\n",
    "par = np.zeros([2,int((order1+1)*(order1+2)/2)])\n",
    "for j in range(order1 + 1):\n",
    "    for i in range(j + 1):\n",
    "        if (j-i)<=order and i<=order:\n",
    "            par[0, pidx] = kx[j - i,i]\n",
    "            par[1, pidx] = ky[j - i,i]\n",
    "        else:\n",
    "            par[0, pidx] = 0\n",
    "            par[1, pidx] = 0\n",
    "        pidx += 1\n",
    "tr.params = par        \n",
    "\n",
    "# kx,ky = Polywarp.polywarp(movie_centers1[:,0],movie_centers1[:,1],seq_centers1[:,0],seq_centers1[:,1],degree=order)\n",
    "# tr_inv = transform.PolynomialTransform()\n",
    "# #tr.estimate(src,dst,order = 2)\n",
    "\n",
    "# order1 = 2*order\n",
    "# pidx = 0\n",
    "# par = np.zeros([2,int((order1+1)*(order1+2)/2)])\n",
    "# for j in range(order1 + 1):\n",
    "#     for i in range(j + 1):\n",
    "#         if (j-i)<=order and i<=order:\n",
    "#             par[0, pidx] = kx[j - i,i]\n",
    "#             par[1, pidx] = ky[j - i,i]\n",
    "#         else:\n",
    "#             par[0, pidx] = 0\n",
    "#             par[1, pidx] = 0\n",
    "#         pidx += 1\n",
    "# tr_inv.params = par    \n",
    "\n",
    "print('Residuals after poly (order = '+str(order)+') transformation: ',residual_cal(tr(movie_centers1), seq_centers1))\n",
    "print('Residuals before transformation: ',residual_cal(movie_centers1, seq_centers1))"
   ]
  }
 ],
 "metadata": {
  "interpreter": {
   "hash": "09a6daa413063a39d67ff2395b4b7988be6704d7b326a0f0df1f4a2f602d4384"
  },
  "kernelspec": {
   "display_name": "Python 3 (ipykernel)",
   "language": "python",
   "name": "python3"
  },
  "language_info": {
   "codemirror_mode": {
    "name": "ipython",
    "version": 3
   },
   "file_extension": ".py",
   "mimetype": "text/x-python",
   "name": "python",
   "nbconvert_exporter": "python",
   "pygments_lexer": "ipython3",
   "version": "3.9.12"
  }
 },
 "nbformat": 4,
 "nbformat_minor": 2
}
